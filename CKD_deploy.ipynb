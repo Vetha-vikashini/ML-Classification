{
 "cells": [
  {
   "cell_type": "code",
   "execution_count": 19,
   "id": "43952ab0-4d97-4244-90fd-5ea3baf72a63",
   "metadata": {},
   "outputs": [],
   "source": [
    "import pickle\n",
    "import pandas as pd\n",
    "import numpy as np"
   ]
  },
  {
   "cell_type": "code",
   "execution_count": 3,
   "id": "0f3e387e-b085-4677-94e0-9955d9bb1d4c",
   "metadata": {},
   "outputs": [],
   "source": [
    "model=pickle.load(open(\"ckd_model.sav\",\"rb\"))"
   ]
  },
  {
   "cell_type": "code",
   "execution_count": 5,
   "id": "c9404843-d1ff-4ab5-8c99-98ec7042c8eb",
   "metadata": {},
   "outputs": [],
   "source": [
    "sc=pickle.load(open(\"stand_model.sav\",\"rb\"))"
   ]
  },
  {
   "cell_type": "code",
   "execution_count": 9,
   "id": "45894cab-85ef-42a5-a0d2-da9bca58a996",
   "metadata": {},
   "outputs": [
    {
     "name": "stdout",
     "output_type": "stream",
     "text": [
      "Enter the inputs such as age,bp,al,su,bgr,bu,sc,sod,pot,hrmo,pcv,wc,rc,sg_b,sg_c,sg_d,sg_e,rbc_normal,pc_normal,pcc_present,ba_present,htn_yes,dm_yes,cad_yes,appet_yes,pe_yes,ane_yes\n"
     ]
    }
   ],
   "source": [
    "print(\"Enter the inputs such as \"\n",
    "      \"age,bp,al,su,bgr,bu,sc,sod,pot,hrmo,pcv,wc,rc,sg_b,sg_c,sg_d,sg_e,rbc_normal,pc_normal,pcc_present,ba_present,htn_yes,dm_yes,cad_yes,appet_yes,pe_yes,ane_yes\")"
   ]
  },
  {
   "cell_type": "code",
   "execution_count": 11,
   "id": "71d4b457-4f51-4334-9f3a-2e4f22dee6aa",
   "metadata": {},
   "outputs": [
    {
     "name": "stdin",
     "output_type": "stream",
     "text": [
      "Enter values with comma seperable 8,60,3,0,78,27,0.9,137.52,4.627,12.3,41,6700,4.705,0,0,0,0,1,1,1,1,1,1,1,1,1,1\n"
     ]
    }
   ],
   "source": [
    "inp=list(map(float,input(\"Enter values with comma seperable\").split(',')))"
   ]
  },
  {
   "cell_type": "code",
   "execution_count": 21,
   "id": "1af150a0-e839-4925-bc05-2ad982218f9e",
   "metadata": {},
   "outputs": [],
   "source": [
    "input_array = np.array(inp).reshape(1, -1)"
   ]
  },
  {
   "cell_type": "code",
   "execution_count": 23,
   "id": "53515471-8237-4035-a679-8bfb451ba545",
   "metadata": {},
   "outputs": [
    {
     "name": "stderr",
     "output_type": "stream",
     "text": [
      "C:\\Users\\91636\\anaconda3\\Lib\\site-packages\\sklearn\\base.py:493: UserWarning: X does not have valid feature names, but StandardScaler was fitted with feature names\n",
      "  warnings.warn(\n"
     ]
    }
   ],
   "source": [
    "scaled_input=sc.transform(input_array)"
   ]
  },
  {
   "cell_type": "code",
   "execution_count": 27,
   "id": "22444ba5-d395-4c9e-aacf-4d5f3ec354b4",
   "metadata": {},
   "outputs": [],
   "source": [
    "y_pred=model.predict(scaled_input)"
   ]
  },
  {
   "cell_type": "code",
   "execution_count": 29,
   "id": "fb194227-8fb8-4fbc-8d04-0454d3248dc5",
   "metadata": {},
   "outputs": [
    {
     "name": "stdout",
     "output_type": "stream",
     "text": [
      "yes\n"
     ]
    }
   ],
   "source": [
    "if y_pred==1:\n",
    "    print(\"yes\")\n",
    "else:\n",
    "    print(\"no\")"
   ]
  },
  {
   "cell_type": "code",
   "execution_count": null,
   "id": "c3eda0ff-f5b2-4ca1-baff-bb07f3e4b97e",
   "metadata": {},
   "outputs": [],
   "source": []
  }
 ],
 "metadata": {
  "kernelspec": {
   "display_name": "Python 3 (ipykernel)",
   "language": "python",
   "name": "python3"
  },
  "language_info": {
   "codemirror_mode": {
    "name": "ipython",
    "version": 3
   },
   "file_extension": ".py",
   "mimetype": "text/x-python",
   "name": "python",
   "nbconvert_exporter": "python",
   "pygments_lexer": "ipython3",
   "version": "3.12.4"
  }
 },
 "nbformat": 4,
 "nbformat_minor": 5
}
